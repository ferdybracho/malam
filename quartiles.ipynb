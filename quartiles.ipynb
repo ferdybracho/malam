{
 "cells": [
  {
   "cell_type": "code",
   "execution_count": null,
   "metadata": {},
   "outputs": [],
   "source": [
    "# Quartiles code method, base on Tukeys Method\n",
    "\n",
    "import math\n",
    "\n",
    "def median(data_list):\n",
    "    data_list.sort()\n",
    "    \n",
    "    if len(data_list) % 2 == 0:\n",
    "        idx_b = int(len(data_list)/2)\n",
    "        idx_a = idx_b - 1\n",
    "        quartile = (data_list[idx_a] + data_list[idx_b])/2\n",
    "    else:\n",
    "        idx_quartile = math.floor(int(len(data_list)/2))\n",
    "        quartile = data_list[idx_quartile]\n",
    "    \n",
    "    return quartile\n",
    "    \n",
    "\n",
    "def quartiles(data):\n",
    "    \n",
    "    data.sort()\n",
    "    quartile_2 = median(data)\n",
    "\n",
    "    if len(data) % 2 == 0:\n",
    "\n",
    "        idx_quartile = int(len(data)/2)\n",
    "        quartile_1 = median(data[:idx_quartile])\n",
    "        quartile_3 = median(data[idx_quartile:])\n",
    "\n",
    "    else:\n",
    "\n",
    "        idx_quartile = math.floor(len(data)/2)\n",
    "        quartile_1 = median(data[:math.ceil(len(data)/2)])\n",
    "        quartile_3 = median(data[math.floor(len(data)/2):])\n",
    "    \n",
    "    return quartile_1, quartile_2, quartile_3"
   ]
  },
  {
   "cell_type": "code",
   "execution_count": null,
   "metadata": {},
   "outputs": [],
   "source": [
    "data =[ 1, 2, 3, 4, 5, 6, 5, 4, 3, 2, 1, 2, 3, 4, 5, 4, 3, 2, 4]"
   ]
  },
  {
   "cell_type": "code",
   "execution_count": 5,
   "metadata": {},
   "outputs": [
    {
     "data": {
      "text/plain": [
       "3"
      ]
     },
     "execution_count": 5,
     "metadata": {},
     "output_type": "execute_result"
    }
   ],
   "source": [
    "median(data)"
   ]
  },
  {
   "cell_type": "code",
   "execution_count": 6,
   "metadata": {},
   "outputs": [
    {
     "data": {
      "text/plain": [
       "(2.0, 3, 4.0)"
      ]
     },
     "execution_count": 6,
     "metadata": {},
     "output_type": "execute_result"
    }
   ],
   "source": [
    "quartiles(data)"
   ]
  },
  {
   "cell_type": "code",
   "execution_count": null,
   "metadata": {},
   "outputs": [],
   "source": []
  },
  {
   "cell_type": "code",
   "execution_count": null,
   "metadata": {},
   "outputs": [],
   "source": []
  }
 ],
 "metadata": {
  "kernelspec": {
   "display_name": "Python 3",
   "language": "python",
   "name": "python3"
  },
  "language_info": {
   "codemirror_mode": {
    "name": "ipython",
    "version": 3
   },
   "file_extension": ".py",
   "mimetype": "text/x-python",
   "name": "python",
   "nbconvert_exporter": "python",
   "pygments_lexer": "ipython3",
   "version": "3.7.1"
  }
 },
 "nbformat": 4,
 "nbformat_minor": 2
}
